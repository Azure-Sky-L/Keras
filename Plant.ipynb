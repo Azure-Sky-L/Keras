{
 "cells": [
  {
   "cell_type": "code",
   "execution_count": 1,
   "metadata": {},
   "outputs": [
    {
     "name": "stdout",
     "output_type": "stream",
     "text": [
      "['Charlock', 'Shepherds Purse', 'Loose Silky-bent', 'Black-grass', 'Small-flowered Cranesbill', 'Common Chickweed', 'Cleavers', 'Maize', 'Scentless Mayweed', 'Fat Hen', 'Common wheat', 'Sugar beet']\n"
     ]
    }
   ],
   "source": [
    "import os\n",
    "print(os.listdir('./train/'))"
   ]
  },
  {
   "cell_type": "code",
   "execution_count": 2,
   "metadata": {},
   "outputs": [
    {
     "name": "stderr",
     "output_type": "stream",
     "text": [
      "/home/mzl/anaconda3/lib/python3.6/site-packages/h5py/__init__.py:36: FutureWarning: Conversion of the second argument of issubdtype from `float` to `np.floating` is deprecated. In future, it will be treated as `np.float64 == np.dtype(float).type`.\n",
      "  from ._conv import register_converters as _register_converters\n",
      "Using TensorFlow backend.\n"
     ]
    },
    {
     "name": "stdout",
     "output_type": "stream",
     "text": [
      "Training data shape:  (3550, 128, 128, 3)\n",
      "Training labels shape:  (3550, 12)\n"
     ]
    }
   ],
   "source": [
    "import fnmatch\n",
    "import os\n",
    "import numpy as np\n",
    "import pandas as pd\n",
    "from keras.applications.vgg16 import preprocess_input\n",
    "from keras.preprocessing import image\n",
    "np.random.seed(21)\n",
    "\n",
    "path = './train/'\n",
    "train_label = []\n",
    "train_img = []\n",
    "label2num = {'Loose Silky-bent':0, 'Charlock':1, 'Sugar beet':2, 'Small-flowered Cranesbill':3,\n",
    "             'Common Chickweed':4, 'Common wheat':5, 'Maize':6, 'Cleavers':7, 'Scentless Mayweed':8,\n",
    "             'Fat Hen':9, 'Black-grass':10, 'Shepherds Purse':11}\n",
    "for i in os.listdir(path):\n",
    "    label_number = label2num[i]\n",
    "    new_path = path+i+'/'\n",
    "    for j in fnmatch.filter(os.listdir(new_path), '*.png'):\n",
    "        temp_img = image.load_img(new_path+j, target_size=(128,128))\n",
    "        train_label.append(label_number)\n",
    "        temp_img = image.img_to_array(temp_img)\n",
    "        train_img.append(temp_img)\n",
    "\n",
    "train_img = np.array(train_img)\n",
    "\n",
    "train_y = pd.get_dummies(train_label)\n",
    "train_y = np.array(train_y)\n",
    "train_img = preprocess_input(train_img)\n",
    "\n",
    "print('Training data shape: ', train_img.shape)\n",
    "print('Training labels shape: ', train_y.shape)"
   ]
  },
  {
   "cell_type": "code",
   "execution_count": 3,
   "metadata": {},
   "outputs": [],
   "source": [
    "import keras\n",
    "from keras.models import Sequential,Model\n",
    "from keras.layers import Dense, Dropout, Flatten, Activation\n",
    "from keras.layers import Conv2D, MaxPooling2D\n",
    "from keras.layers.normalization import BatchNormalization\n",
    "from keras.applications.vgg16 import VGG16\n",
    "\n",
    "def vgg16_model(num_classes=None):\n",
    "\n",
    "    model = VGG16(weights='imagenet', include_top=False,input_shape=(128,128,3))\n",
    "    model.layers.pop()\n",
    "    model.layers.pop()\n",
    "    model.layers.pop()\n",
    "\n",
    "    model.outputs = [model.layers[-1].output]\n",
    "\n",
    "    model.layers[-2].outbound_nodes= []\n",
    "    x=Conv2D(256, kernel_size=(2,2),strides=2)(model.output)\n",
    "    x = BatchNormalization()(x)\n",
    "    x = Activation('relu')(x)    \n",
    "    x=Conv2D(128, kernel_size=(2,2),strides=1)(x)\n",
    "    x = BatchNormalization()(x)\n",
    "    x = Activation('relu')(x)\n",
    "    x=Flatten()(x)\n",
    "    x=Dense(num_classes, activation='softmax')(x)\n",
    "\n",
    "    model=Model(model.input,x)\n",
    "\n",
    "    for layer in model.layers[:15]:\n",
    "\n",
    "        layer.trainable = False\n",
    "\n",
    "\n",
    "    return model"
   ]
  },
  {
   "cell_type": "code",
   "execution_count": 8,
   "metadata": {},
   "outputs": [],
   "source": [
    "def precision(y_true, y_pred):\n",
    "    true_positives = K.sum(K.round(K.clip(y_true * y_pred, 0, 1)))\n",
    "    predicted_positives = K.sum(K.round(K.clip(y_pred, 0, 1)))\n",
    "    precision = true_positives / (predicted_positives + K.epsilon())\n",
    "    return precision\n",
    "\n",
    "\n",
    "def recall(y_true, y_pred):\n",
    "    true_positives = K.sum(K.round(K.clip(y_true * y_pred, 0, 1)))\n",
    "    possible_positives = K.sum(K.round(K.clip(y_true, 0, 1)))\n",
    "    recall = true_positives / (possible_positives + K.epsilon())\n",
    "    return recall\n",
    "\n",
    "\n",
    "def fscore(y_true, y_pred):\n",
    "    if K.sum(K.round(K.clip(y_true, 0, 1))) == 0:\n",
    "        return 0\n",
    "\n",
    "    p = precision(y_true, y_pred)\n",
    "    r = recall(y_true, y_pred)\n",
    "    f_score = 2 * (p * r) / (p + r + K.epsilon())\n",
    "    return f_score"
   ]
  },
  {
   "cell_type": "code",
   "execution_count": 9,
   "metadata": {},
   "outputs": [
    {
     "name": "stdout",
     "output_type": "stream",
     "text": [
      "_________________________________________________________________\n",
      "Layer (type)                 Output Shape              Param #   \n",
      "=================================================================\n",
      "input_4 (InputLayer)         (None, 128, 128, 3)       0         \n",
      "_________________________________________________________________\n",
      "block1_conv1 (Conv2D)        (None, 128, 128, 64)      1792      \n",
      "_________________________________________________________________\n",
      "block1_conv2 (Conv2D)        (None, 128, 128, 64)      36928     \n",
      "_________________________________________________________________\n",
      "block1_pool (MaxPooling2D)   (None, 64, 64, 64)        0         \n",
      "_________________________________________________________________\n",
      "block2_conv1 (Conv2D)        (None, 64, 64, 128)       73856     \n",
      "_________________________________________________________________\n",
      "block2_conv2 (Conv2D)        (None, 64, 64, 128)       147584    \n",
      "_________________________________________________________________\n",
      "block2_pool (MaxPooling2D)   (None, 32, 32, 128)       0         \n",
      "_________________________________________________________________\n",
      "block3_conv1 (Conv2D)        (None, 32, 32, 256)       295168    \n",
      "_________________________________________________________________\n",
      "block3_conv2 (Conv2D)        (None, 32, 32, 256)       590080    \n",
      "_________________________________________________________________\n",
      "block3_conv3 (Conv2D)        (None, 32, 32, 256)       590080    \n",
      "_________________________________________________________________\n",
      "block3_pool (MaxPooling2D)   (None, 16, 16, 256)       0         \n",
      "_________________________________________________________________\n",
      "block4_conv1 (Conv2D)        (None, 16, 16, 512)       1180160   \n",
      "_________________________________________________________________\n",
      "block4_conv2 (Conv2D)        (None, 16, 16, 512)       2359808   \n",
      "_________________________________________________________________\n",
      "block4_conv3 (Conv2D)        (None, 16, 16, 512)       2359808   \n",
      "_________________________________________________________________\n",
      "block4_pool (MaxPooling2D)   (None, 8, 8, 512)         0         \n",
      "_________________________________________________________________\n",
      "block5_conv1 (Conv2D)        (None, 8, 8, 512)         2359808   \n",
      "_________________________________________________________________\n",
      "block5_conv2 (Conv2D)        (None, 8, 8, 512)         2359808   \n",
      "_________________________________________________________________\n",
      "block5_conv3 (Conv2D)        (None, 8, 8, 512)         2359808   \n",
      "_________________________________________________________________\n",
      "block5_pool (MaxPooling2D)   (None, 4, 4, 512)         0         \n",
      "_________________________________________________________________\n",
      "conv2d_7 (Conv2D)            (None, 2, 2, 256)         524544    \n",
      "_________________________________________________________________\n",
      "batch_normalization_7 (Batch (None, 2, 2, 256)         1024      \n",
      "_________________________________________________________________\n",
      "activation_7 (Activation)    (None, 2, 2, 256)         0         \n",
      "_________________________________________________________________\n",
      "conv2d_8 (Conv2D)            (None, 1, 1, 128)         131200    \n",
      "_________________________________________________________________\n",
      "batch_normalization_8 (Batch (None, 1, 1, 128)         512       \n",
      "_________________________________________________________________\n",
      "activation_8 (Activation)    (None, 1, 1, 128)         0         \n",
      "_________________________________________________________________\n",
      "flatten_4 (Flatten)          (None, 128)               0         \n",
      "_________________________________________________________________\n",
      "dense_4 (Dense)              (None, 12)                1548      \n",
      "=================================================================\n",
      "Total params: 15,373,516\n",
      "Trainable params: 7,737,484\n",
      "Non-trainable params: 7,636,032\n",
      "_________________________________________________________________\n"
     ]
    }
   ],
   "source": [
    "from keras import backend as K\n",
    "num_classes=12\n",
    "model = vgg16_model(num_classes)\n",
    "model.compile(optimizer=\"adam\", loss='categorical_crossentropy', metrics=['accuracy',fscore])\n",
    "model.summary()"
   ]
  },
  {
   "cell_type": "code",
   "execution_count": 27,
   "metadata": {},
   "outputs": [
    {
     "name": "stdout",
     "output_type": "stream",
     "text": [
      "Epoch 1/20\n",
      "12/12 [==============================] - 19s 2s/step - loss: 0.2389 - acc: 0.9167 - fscore: 0.9147 - val_loss: 0.4076 - val_acc: 0.8676 - val_fscore: 0.8710\n",
      "Epoch 2/20\n",
      "12/12 [==============================] - 20s 2s/step - loss: 0.1712 - acc: 0.9349 - fscore: 0.9356 - val_loss: 0.4821 - val_acc: 0.8479 - val_fscore: 0.8475\n",
      "Epoch 3/20\n",
      "12/12 [==============================] - 20s 2s/step - loss: 0.2085 - acc: 0.9271 - fscore: 0.9302 - val_loss: 0.4801 - val_acc: 0.8507 - val_fscore: 0.8515\n",
      "Epoch 4/20\n",
      "12/12 [==============================] - 19s 2s/step - loss: 0.1936 - acc: 0.9411 - fscore: 0.9433 - val_loss: 0.4016 - val_acc: 0.8732 - val_fscore: 0.8802\n",
      "Epoch 5/20\n",
      "12/12 [==============================] - 20s 2s/step - loss: 0.2043 - acc: 0.9271 - fscore: 0.9267 - val_loss: 0.4747 - val_acc: 0.8563 - val_fscore: 0.8579\n",
      "Epoch 6/20\n",
      "12/12 [==============================] - 19s 2s/step - loss: 0.2124 - acc: 0.9203 - fscore: 0.9214 - val_loss: 0.3593 - val_acc: 0.9014 - val_fscore: 0.9006\n",
      "Epoch 7/20\n",
      "12/12 [==============================] - 20s 2s/step - loss: 0.2188 - acc: 0.9141 - fscore: 0.9171 - val_loss: 0.3167 - val_acc: 0.8901 - val_fscore: 0.8962\n",
      "Epoch 8/20\n",
      "12/12 [==============================] - 19s 2s/step - loss: 0.1621 - acc: 0.9479 - fscore: 0.9472 - val_loss: 0.5020 - val_acc: 0.8648 - val_fscore: 0.8656\n",
      "Epoch 9/20\n",
      "12/12 [==============================] - 20s 2s/step - loss: 0.1917 - acc: 0.9310 - fscore: 0.9307 - val_loss: 0.3604 - val_acc: 0.8930 - val_fscore: 0.8988\n",
      "Epoch 10/20\n",
      "12/12 [==============================] - 19s 2s/step - loss: 0.1605 - acc: 0.9427 - fscore: 0.9403 - val_loss: 0.3868 - val_acc: 0.8817 - val_fscore: 0.8851\n",
      "Epoch 11/20\n",
      "12/12 [==============================] - 19s 2s/step - loss: 0.1446 - acc: 0.9529 - fscore: 0.9512 - val_loss: 0.5090 - val_acc: 0.8732 - val_fscore: 0.8661\n",
      "Epoch 12/20\n",
      "12/12 [==============================] - 19s 2s/step - loss: 0.1391 - acc: 0.9492 - fscore: 0.9479 - val_loss: 0.3341 - val_acc: 0.9014 - val_fscore: 0.8962\n",
      "Epoch 13/20\n",
      "12/12 [==============================] - 18s 2s/step - loss: 0.1516 - acc: 0.9492 - fscore: 0.9481 - val_loss: 0.2861 - val_acc: 0.9155 - val_fscore: 0.9153\n",
      "Epoch 14/20\n",
      "12/12 [==============================] - 19s 2s/step - loss: 0.1738 - acc: 0.9386 - fscore: 0.9397 - val_loss: 0.3868 - val_acc: 0.9014 - val_fscore: 0.9023\n",
      "Epoch 15/20\n",
      "12/12 [==============================] - 20s 2s/step - loss: 0.1226 - acc: 0.9557 - fscore: 0.9548 - val_loss: 0.4167 - val_acc: 0.8845 - val_fscore: 0.8853\n",
      "Epoch 16/20\n",
      "12/12 [==============================] - 18s 2s/step - loss: 0.1609 - acc: 0.9401 - fscore: 0.9394 - val_loss: 0.3790 - val_acc: 0.9014 - val_fscore: 0.9040\n",
      "Epoch 17/20\n",
      "12/12 [==============================] - 19s 2s/step - loss: 0.1631 - acc: 0.9375 - fscore: 0.9379 - val_loss: 0.4234 - val_acc: 0.8873 - val_fscore: 0.8863\n",
      "Epoch 18/20\n",
      "12/12 [==============================] - 19s 2s/step - loss: 0.1323 - acc: 0.9518 - fscore: 0.9533 - val_loss: 0.5004 - val_acc: 0.8845 - val_fscore: 0.8848\n",
      "Epoch 19/20\n",
      "12/12 [==============================] - 19s 2s/step - loss: 0.1265 - acc: 0.9479 - fscore: 0.9482 - val_loss: 0.3026 - val_acc: 0.9211 - val_fscore: 0.9275\n",
      "Epoch 20/20\n",
      "12/12 [==============================] - 20s 2s/step - loss: 0.1492 - acc: 0.9453 - fscore: 0.9454 - val_loss: 0.3762 - val_acc: 0.8761 - val_fscore: 0.8809\n"
     ]
    },
    {
     "data": {
      "text/plain": [
       "<keras.callbacks.History at 0x7fec56059eb8>"
      ]
     },
     "execution_count": 27,
     "metadata": {},
     "output_type": "execute_result"
    }
   ],
   "source": [
    "#Split training data into rain set and validation set\n",
    "from sklearn.model_selection import train_test_split\n",
    "X_train, X_valid, Y_train, Y_valid=train_test_split(train_img,train_y,test_size=0.1, random_state=42)\n",
    "\n",
    "#Data augmentation\n",
    "from keras.preprocessing.image import ImageDataGenerator\n",
    "gen_train = ImageDataGenerator( \n",
    "    rotation_range=30,\n",
    "    width_shift_range=0.2,\n",
    "   height_shift_range=0.2,\n",
    "    horizontal_flip=True,\n",
    "    vertical_flip=True\n",
    "\n",
    ")\n",
    "gen_train.fit(X_train)\n",
    "#Train model\n",
    "from keras.callbacks import ModelCheckpoint\n",
    "epochs = 20\n",
    "batch_size = 64 # GPU 不好，不宜过高\n",
    "model_checkpoint = ModelCheckpoint('weights8.h5', monitor='val_loss', save_best_only=True)\n",
    "\n",
    "model.fit_generator(gen_train.flow(X_train, Y_train, batch_size=batch_size, shuffle=True), \n",
    "                    steps_per_epoch=(X_train.shape[0]//(4*batch_size)), \n",
    "                    epochs=epochs, \n",
    "                    validation_data=(X_valid,Y_valid),\n",
    "                    callbacks=[model_checkpoint],verbose=1)\n"
   ]
  },
  {
   "cell_type": "code",
   "execution_count": 13,
   "metadata": {},
   "outputs": [
    {
     "name": "stdout",
     "output_type": "stream",
     "text": [
      "Train on 3195 samples, validate on 355 samples\n",
      "Epoch 1/10\n",
      "3195/3195 [==============================] - 73s 23ms/step - loss: 0.3878 - acc: 0.8707 - fscore: 0.8664 - val_loss: 3.3021 - val_acc: 0.4254 - val_fscore: 0.4040\n",
      "Epoch 2/10\n",
      "3195/3195 [==============================] - 66s 21ms/step - loss: 0.2485 - acc: 0.9161 - fscore: 0.9154 - val_loss: 0.9274 - val_acc: 0.7070 - val_fscore: 0.7159\n",
      "Epoch 3/10\n",
      "3195/3195 [==============================] - 66s 21ms/step - loss: 0.1613 - acc: 0.9512 - fscore: 0.9476 - val_loss: 0.8533 - val_acc: 0.7465 - val_fscore: 0.7404\n",
      "Epoch 4/10\n",
      "3195/3195 [==============================] - 66s 21ms/step - loss: 0.1234 - acc: 0.9646 - fscore: 0.9632 - val_loss: 1.6862 - val_acc: 0.6423 - val_fscore: 0.6431\n",
      "Epoch 5/10\n",
      "3195/3195 [==============================] - 67s 21ms/step - loss: 0.0776 - acc: 0.9772 - fscore: 0.9775 - val_loss: 0.5350 - val_acc: 0.8479 - val_fscore: 0.8491\n",
      "Epoch 6/10\n",
      "3195/3195 [==============================] - 65s 20ms/step - loss: 0.0859 - acc: 0.9731 - fscore: 0.9726 - val_loss: 0.6852 - val_acc: 0.7972 - val_fscore: 0.8056\n",
      "Epoch 7/10\n",
      "3195/3195 [==============================] - 67s 21ms/step - loss: 0.0930 - acc: 0.9712 - fscore: 0.9707 - val_loss: 0.6076 - val_acc: 0.8254 - val_fscore: 0.8246\n",
      "Epoch 8/10\n",
      "3195/3195 [==============================] - 65s 20ms/step - loss: 0.0675 - acc: 0.9787 - fscore: 0.9787 - val_loss: 0.8866 - val_acc: 0.7746 - val_fscore: 0.7804\n",
      "Epoch 9/10\n",
      "3195/3195 [==============================] - 68s 21ms/step - loss: 0.0495 - acc: 0.9853 - fscore: 0.9848 - val_loss: 0.5348 - val_acc: 0.8704 - val_fscore: 0.8675\n",
      "Epoch 10/10\n",
      "3195/3195 [==============================] - 68s 21ms/step - loss: 0.0452 - acc: 0.9865 - fscore: 0.9860 - val_loss: 0.6552 - val_acc: 0.8254 - val_fscore: 0.8239\n"
     ]
    },
    {
     "data": {
      "text/plain": [
       "<keras.callbacks.History at 0x7fec32b063c8>"
      ]
     },
     "execution_count": 13,
     "metadata": {},
     "output_type": "execute_result"
    }
   ],
   "source": [
    "'''\n",
    "from keras.callbacks import ModelCheckpoint\n",
    "model_checkpoint = ModelCheckpoint('weight.h5', monitor='val_loss', save_best_only=True)\n",
    "model.fit(X_train,Y_train,\n",
    "          batch_size=32, # GPU 不好，不宜过高\n",
    "          epochs=10,\n",
    "          verbose=1, shuffle=True, validation_data=(X_valid,Y_valid), callbacks=[model_checkpoint])\n",
    "'''"
   ]
  },
  {
   "cell_type": "code",
   "execution_count": 28,
   "metadata": {},
   "outputs": [
    {
     "name": "stdout",
     "output_type": "stream",
     "text": [
      "            file           species\n",
      "0  0c4199daa.png  Loose Silky-bent\n",
      "1  d93c7ab6d.png       Black-grass\n",
      "2  c7eb96871.png      Common wheat\n",
      "3  0f6cbe5e8.png             Maize\n",
      "4  eec1079a1.png          Charlock\n"
     ]
    }
   ],
   "source": [
    "prob=[]\n",
    "num=[]\n",
    "test_img=[]\n",
    "test_path = './test/'\n",
    "test_all = fnmatch.filter(os.listdir(test_path), '*.png')\n",
    "\n",
    "test_img=[]\n",
    "for i in range(len(test_all)):\n",
    "    path=test_path+'/'+test_all[i]\n",
    "    temp_img=image.load_img(path,target_size=(128,128))\n",
    "    temp_img=image.img_to_array(temp_img)\n",
    "    test_img.append(temp_img) \n",
    "test_img=np.array(test_img)    \n",
    "test_img=preprocess_input(test_img)\n",
    "\n",
    "\n",
    "test_labels=[]\n",
    "pred=model.predict(test_img)\n",
    "num2label =  {0:'Loose Silky-bent', 1:'Charlock',2: 'Sugar beet',3: 'Small-flowered Cranesbill',\n",
    "              4:'Common Chickweed',5: 'Common wheat',6: 'Maize', 7:'Cleavers', 8:'Scentless Mayweed',\n",
    "             9: 'Fat Hen', 10:'Black-grass', 11:'Shepherds Purse'}\n",
    "\n",
    "for i in range(len(test_all)):\n",
    "    max_score =0\n",
    "    lab=-1\n",
    "    for j in range(12):\n",
    "        if pred[i][j]>max_score:\n",
    "            max_score=pred[i][j]\n",
    "            lab=j\n",
    "    test_labels.append(num2label[lab])\n",
    "\n",
    "\n",
    "d = {'file': test_all, 'species': test_labels}\n",
    "df = pd.DataFrame(data=d)\n",
    "print(df.head(5))"
   ]
  },
  {
   "cell_type": "code",
   "execution_count": 29,
   "metadata": {},
   "outputs": [
    {
     "name": "stdout",
     "output_type": "stream",
     "text": [
      "Submitting csv\n",
      "/bin/sh: 1: cannot open username: No such file\n",
      "/bin/sh: 1: kg: not found\n"
     ]
    }
   ],
   "source": [
    "#Convert dataframe to csv\n",
    "df.to_csv(\"./submit.csv\",index=False) \n",
    "\n",
    "#Submit the csv\n",
    "print('Submitting csv')\n",
    "!kg submit submit.csv -u <username> -p <password> -c plant-seedlings-classification"
   ]
  },
  {
   "cell_type": "code",
   "execution_count": 31,
   "metadata": {},
   "outputs": [],
   "source": [
    "\n",
    "model.load_weights('weight.h5')"
   ]
  }
 ],
 "metadata": {
  "kernelspec": {
   "display_name": "Python 3",
   "language": "python",
   "name": "python3"
  },
  "language_info": {
   "codemirror_mode": {
    "name": "ipython",
    "version": 3
   },
   "file_extension": ".py",
   "mimetype": "text/x-python",
   "name": "python",
   "nbconvert_exporter": "python",
   "pygments_lexer": "ipython3",
   "version": "3.6.4"
  }
 },
 "nbformat": 4,
 "nbformat_minor": 2
}
